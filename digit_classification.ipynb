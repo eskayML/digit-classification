{
  "cells": [
    {
      "cell_type": "markdown",
      "metadata": {
        "id": "view-in-github",
        "colab_type": "text"
      },
      "source": [
        "<a href=\"https://colab.research.google.com/github/kalusam1/digit-classification/blob/main/digit_classification.ipynb\" target=\"_parent\"><img src=\"https://colab.research.google.com/assets/colab-badge.svg\" alt=\"Open In Colab\"/></a>"
      ]
    },
    {
      "cell_type": "code",
      "execution_count": 6,
      "metadata": {
        "ExecuteTime": {
          "end_time": "2022-05-13T13:21:13.489724Z",
          "start_time": "2022-05-13T13:20:15.923078Z"
        },
        "id": "XDMNji5vH9Kv"
      },
      "outputs": [],
      "source": [
        "import matplotlib.pyplot as plt\n",
        "import matplotlib.image as pimg \n",
        "import tensorflow as tf\n",
        "import pandas as pd\n",
        "import numpy as np\n",
        "import random \n",
        "import os\n",
        "from tensorflow import keras"
      ]
    },
    {
      "cell_type": "code",
      "execution_count": 7,
      "metadata": {
        "ExecuteTime": {
          "end_time": "2022-05-13T13:21:14.296070Z",
          "start_time": "2022-05-13T13:21:13.489724Z"
        },
        "id": "Qptu8GCtH9K3"
      },
      "outputs": [],
      "source": [
        "digits_mnist = keras.datasets.mnist\n",
        "(train_images,train_labels),(test_images,test_labels) = digits_mnist.load_data()"
      ]
    },
    {
      "cell_type": "code",
      "execution_count": 8,
      "metadata": {
        "ExecuteTime": {
          "end_time": "2022-05-13T13:21:14.312551Z",
          "start_time": "2022-05-13T13:21:14.300599Z"
        },
        "id": "tpUvvo9VH9K4",
        "outputId": "e8a35b16-c5d8-42bb-bab6-db6ece2acfaa",
        "colab": {
          "base_uri": "https://localhost:8080/"
        }
      },
      "outputs": [
        {
          "output_type": "execute_result",
          "data": {
            "text/plain": [
              "(60000, 28, 28)"
            ]
          },
          "metadata": {},
          "execution_count": 8
        }
      ],
      "source": [
        "train_images.shape"
      ]
    },
    {
      "cell_type": "code",
      "execution_count": 9,
      "metadata": {
        "ExecuteTime": {
          "end_time": "2022-05-13T13:21:14.573559Z",
          "start_time": "2022-05-13T13:21:14.453556Z"
        },
        "id": "ZA_czn-VH9K6",
        "outputId": "db392453-61f9-4aae-ac1b-f4042637c984",
        "colab": {
          "base_uri": "https://localhost:8080/"
        }
      },
      "outputs": [
        {
          "output_type": "execute_result",
          "data": {
            "text/plain": [
              "(10000, 28, 28)"
            ]
          },
          "metadata": {},
          "execution_count": 9
        }
      ],
      "source": [
        "test_images.shape"
      ]
    },
    {
      "cell_type": "code",
      "execution_count": 10,
      "metadata": {
        "ExecuteTime": {
          "end_time": "2022-05-13T13:21:16.529117Z",
          "start_time": "2022-05-13T13:21:14.716558Z"
        },
        "id": "71tdo_J0H9K9",
        "outputId": "a59e63fd-176d-403e-c2ff-17453c1ea370",
        "colab": {
          "base_uri": "https://localhost:8080/"
        }
      },
      "outputs": [
        {
          "output_type": "stream",
          "name": "stdout",
          "text": [
            "[[  0   0   0   0   0   0   0   0   0   0   0   0   0   0   0   0   0   0\n",
            "    0   0   0   0   0   0   0   0   0   0]\n",
            " [  0   0   0   0   0   0   0   0   0   0   0   0   0   0   0   0   0   0\n",
            "    0   0   0   0   0   0   0   0   0   0]\n",
            " [  0   0   0   0   0   0   0   0   0   0   0   0   0   0   0   0   0   0\n",
            "    0   0   0   0   0   0   0   0   0   0]\n",
            " [  0   0   0   0   0   0   0   0   0   0   0   0   0   0   0   0   0   0\n",
            "    0   0   0   0   0   0   0   0   0   0]\n",
            " [  0   0   0   0   0   0   0   0   0   0   0   0   0   0   0   0   0   0\n",
            "    0   0   0   0   0   0   0   0   0   0]\n",
            " [  0   0   0   0   0   0   0   0   0   0   0   0   3  18  18  18 126 136\n",
            "  175  26 166 255 247 127   0   0   0   0]\n",
            " [  0   0   0   0   0   0   0   0  30  36  94 154 170 253 253 253 253 253\n",
            "  225 172 253 242 195  64   0   0   0   0]\n",
            " [  0   0   0   0   0   0   0  49 238 253 253 253 253 253 253 253 253 251\n",
            "   93  82  82  56  39   0   0   0   0   0]\n",
            " [  0   0   0   0   0   0   0  18 219 253 253 253 253 253 198 182 247 241\n",
            "    0   0   0   0   0   0   0   0   0   0]\n",
            " [  0   0   0   0   0   0   0   0  80 156 107 253 253 205  11   0  43 154\n",
            "    0   0   0   0   0   0   0   0   0   0]\n",
            " [  0   0   0   0   0   0   0   0   0  14   1 154 253  90   0   0   0   0\n",
            "    0   0   0   0   0   0   0   0   0   0]\n",
            " [  0   0   0   0   0   0   0   0   0   0   0 139 253 190   2   0   0   0\n",
            "    0   0   0   0   0   0   0   0   0   0]\n",
            " [  0   0   0   0   0   0   0   0   0   0   0  11 190 253  70   0   0   0\n",
            "    0   0   0   0   0   0   0   0   0   0]\n",
            " [  0   0   0   0   0   0   0   0   0   0   0   0  35 241 225 160 108   1\n",
            "    0   0   0   0   0   0   0   0   0   0]\n",
            " [  0   0   0   0   0   0   0   0   0   0   0   0   0  81 240 253 253 119\n",
            "   25   0   0   0   0   0   0   0   0   0]\n",
            " [  0   0   0   0   0   0   0   0   0   0   0   0   0   0  45 186 253 253\n",
            "  150  27   0   0   0   0   0   0   0   0]\n",
            " [  0   0   0   0   0   0   0   0   0   0   0   0   0   0   0  16  93 252\n",
            "  253 187   0   0   0   0   0   0   0   0]\n",
            " [  0   0   0   0   0   0   0   0   0   0   0   0   0   0   0   0   0 249\n",
            "  253 249  64   0   0   0   0   0   0   0]\n",
            " [  0   0   0   0   0   0   0   0   0   0   0   0   0   0  46 130 183 253\n",
            "  253 207   2   0   0   0   0   0   0   0]\n",
            " [  0   0   0   0   0   0   0   0   0   0   0   0  39 148 229 253 253 253\n",
            "  250 182   0   0   0   0   0   0   0   0]\n",
            " [  0   0   0   0   0   0   0   0   0   0  24 114 221 253 253 253 253 201\n",
            "   78   0   0   0   0   0   0   0   0   0]\n",
            " [  0   0   0   0   0   0   0   0  23  66 213 253 253 253 253 198  81   2\n",
            "    0   0   0   0   0   0   0   0   0   0]\n",
            " [  0   0   0   0   0   0  18 171 219 253 253 253 253 195  80   9   0   0\n",
            "    0   0   0   0   0   0   0   0   0   0]\n",
            " [  0   0   0   0  55 172 226 253 253 253 253 244 133  11   0   0   0   0\n",
            "    0   0   0   0   0   0   0   0   0   0]\n",
            " [  0   0   0   0 136 253 253 253 212 135 132  16   0   0   0   0   0   0\n",
            "    0   0   0   0   0   0   0   0   0   0]\n",
            " [  0   0   0   0   0   0   0   0   0   0   0   0   0   0   0   0   0   0\n",
            "    0   0   0   0   0   0   0   0   0   0]\n",
            " [  0   0   0   0   0   0   0   0   0   0   0   0   0   0   0   0   0   0\n",
            "    0   0   0   0   0   0   0   0   0   0]\n",
            " [  0   0   0   0   0   0   0   0   0   0   0   0   0   0   0   0   0   0\n",
            "    0   0   0   0   0   0   0   0   0   0]]\n"
          ]
        }
      ],
      "source": [
        "import sys\n",
        "np.set_printoptions(threshold=sys.maxsize)\n",
        "print(train_images[0])"
      ]
    },
    {
      "cell_type": "code",
      "execution_count": 11,
      "metadata": {
        "ExecuteTime": {
          "end_time": "2022-05-13T13:21:16.540584Z",
          "start_time": "2022-05-13T13:21:16.531146Z"
        },
        "id": "gnhsrNeKH9K-",
        "outputId": "3f168b59-57d0-4d57-e159-4792004db9a4",
        "colab": {
          "base_uri": "https://localhost:8080/"
        }
      },
      "outputs": [
        {
          "output_type": "execute_result",
          "data": {
            "text/plain": [
              "array([5, 0, 4, 1, 9, 2, 1, 3, 1, 4], dtype=uint8)"
            ]
          },
          "metadata": {},
          "execution_count": 11
        }
      ],
      "source": [
        "train_labels[:10]"
      ]
    },
    {
      "cell_type": "code",
      "execution_count": 12,
      "metadata": {
        "ExecuteTime": {
          "end_time": "2022-05-13T13:21:17.551460Z",
          "start_time": "2022-05-13T13:21:16.548589Z"
        },
        "id": "Vgbhf90nH9K_",
        "outputId": "9adb62b0-b647-4991-f339-8bcd7d5c03a1",
        "colab": {
          "base_uri": "https://localhost:8080/",
          "height": 265
        }
      },
      "outputs": [
        {
          "output_type": "display_data",
          "data": {
            "text/plain": [
              "<Figure size 432x288 with 2 Axes>"
            ],
            "image/png": "[encoded data removed]"
          },
          "metadata": {
            "needs_background": "light"
          }
        }
      ],
      "source": [
        "plt.figure()\n",
        "plt.imshow(train_images[1],cmap = 'gray')\n",
        "plt.colorbar()\n",
        "plt.grid(False)\n",
        "plt.show()"
      ]
    },
    {
      "cell_type": "markdown",
      "metadata": {
        "id": "ZO-85DNUH9LC"
      },
      "source": [
        "# PREPROCESSING\n",
        "_Here we will carry out normalization i.e converting the image pixels to values between 0 and 1_"
      ]
    },
    {
      "cell_type": "code",
      "execution_count": 13,
      "metadata": {
        "ExecuteTime": {
          "end_time": "2022-05-13T13:21:18.038082Z",
          "start_time": "2022-05-13T13:21:17.551460Z"
        },
        "id": "f5Hdzti0H9LG"
      },
      "outputs": [],
      "source": [
        "train_images = train_images/ 255.0\n",
        "test_images = test_images/ 255.0"
      ]
    },
    {
      "cell_type": "code",
      "execution_count": 14,
      "metadata": {
        "ExecuteTime": {
          "end_time": "2022-05-13T13:27:23.449407Z",
          "start_time": "2022-05-13T13:27:21.177403Z"
        },
        "id": "LVO0B4HhH9LH"
      },
      "outputs": [],
      "source": [
        "#ADDING A CONVOLUTIONAL LAYER OR EVEN 2\n",
        "model = keras.Sequential([\n",
        "   # conv layer 1\n",
        "    keras.layers.Conv2D(16,(3,3), input_shape=(28,28,1), activation = 'relu'),\n",
        "    keras.layers.MaxPooling2D((2,2)),\n",
        "    # conv layer 2 \n",
        "    keras.layers.Conv2D(16,(3,3), activation = 'relu'),\n",
        "    keras.layers.MaxPooling2D((2,2)),\n",
        "    # normal layers\n",
        "    keras.layers.Flatten(), # input layer\n",
        "    keras.layers.Dense(128,activation='relu'), # hidden layer\n",
        "    keras.layers.Dense(10,activation='softmax'), # output layer\n",
        "])\n"
      ]
    },
    {
      "cell_type": "code",
      "execution_count": 15,
      "metadata": {
        "ExecuteTime": {
          "end_time": "2022-05-13T13:30:30.004119Z",
          "start_time": "2022-05-13T13:30:29.985157Z"
        },
        "id": "IY-2QbvrH9LI"
      },
      "outputs": [],
      "source": [
        "model.compile(optimizer='adam',\n",
        "              loss='sparse_categorical_crossentropy',\n",
        "             metrics=['accuracy'])"
      ]
    },
    {
      "cell_type": "code",
      "execution_count": 24,
      "metadata": {
        "ExecuteTime": {
          "end_time": "2022-05-13T13:35:27.562514Z",
          "start_time": "2022-05-13T13:33:53.702013Z"
        },
        "id": "NffZwl1UH9LJ",
        "outputId": "d76136ea-0b4d-46f5-f202-2285b592333d",
        "colab": {
          "base_uri": "https://localhost:8080/"
        }
      },
      "outputs": [
        {
          "output_type": "stream",
          "name": "stdout",
          "text": [
            "Epoch 1/5\n",
            "1875/1875 [==============================] - 28s 15ms/step - loss: 0.0088 - accuracy: 0.9971\n",
            "Epoch 2/5\n",
            "1875/1875 [==============================] - 28s 15ms/step - loss: 0.0077 - accuracy: 0.9974\n",
            "Epoch 3/5\n",
            "1875/1875 [==============================] - 28s 15ms/step - loss: 0.0075 - accuracy: 0.9976\n",
            "Epoch 4/5\n",
            "1875/1875 [==============================] - 28s 15ms/step - loss: 0.0058 - accuracy: 0.9977\n",
            "Epoch 5/5\n",
            "1875/1875 [==============================] - 28s 15ms/step - loss: 0.0070 - accuracy: 0.9977\n"
          ]
        },
        {
          "output_type": "execute_result",
          "data": {
            "text/plain": [
              "<keras.callbacks.History at 0x7f7da9161310>"
            ]
          },
          "metadata": {},
          "execution_count": 24
        }
      ],
      "source": [
        "model.fit(train_images,train_labels,epochs=5)"
      ]
    },
    {
      "cell_type": "code",
      "execution_count": 25,
      "metadata": {
        "ExecuteTime": {
          "end_time": "2022-05-13T13:37:42.877015Z",
          "start_time": "2022-05-13T13:37:41.867961Z"
        },
        "id": "FHV6e8dTH9LK",
        "outputId": "23f1a0ea-c34a-47f5-af05-ce8e6e54c699",
        "colab": {
          "base_uri": "https://localhost:8080/"
        }
      },
      "outputs": [
        {
          "output_type": "stream",
          "name": "stdout",
          "text": [
            "MODEL EVALUATION ON TEST DATA\n",
            "313/313 [==============================] - 2s 6ms/step - loss: 0.0369 - accuracy: 0.9911\n"
          ]
        }
      ],
      "source": [
        "print('MODEL EVALUATION ON TEST DATA')\n",
        "test_loss, test_acc = model.evaluate(test_images, test_labels, verbose=1)\n"
      ]
    },
    {
      "cell_type": "markdown",
      "metadata": {
        "id": "kMX67ixnH9LL"
      },
      "source": [
        "lets have some fun trying to predict the first five test images"
      ]
    },
    {
      "cell_type": "code",
      "source": [
        "model.save('first_convnet_model_with_mnist_digit.h5')"
      ],
      "metadata": {
        "id": "Z24EyUKlLfyw"
      },
      "execution_count": 26,
      "outputs": []
    },
    {
      "cell_type": "code",
      "execution_count": 27,
      "metadata": {
        "ExecuteTime": {
          "end_time": "2022-05-13T13:43:59.958632Z",
          "start_time": "2022-05-13T13:43:59.725698Z"
        },
        "id": "H29sKCgbH9LM",
        "outputId": "13bad6e5-3581-4ce7-93d0-6e7942ccb736",
        "colab": {
          "base_uri": "https://localhost:8080/"
        }
      },
      "outputs": [
        {
          "output_type": "stream",
          "name": "stdout",
          "text": [
            "[[7.01165615e-16 5.84198922e-12 5.46809980e-14 3.53918792e-14\n",
            "  9.50410524e-08 5.50000463e-17 1.56328076e-19 9.99999881e-01\n",
            "  1.77871715e-13 2.91986249e-12]\n",
            " [1.06506556e-18 1.00830506e-14 1.00000000e+00 2.97032965e-22\n",
            "  1.68505455e-21 2.85238360e-26 4.13222112e-16 3.29060137e-23\n",
            "  6.46167769e-18 1.40683943e-32]\n",
            " [1.22177468e-08 9.99996901e-01 1.13060949e-09 1.05000508e-14\n",
            "  1.96573592e-06 1.14135082e-11 1.25730801e-10 9.81923108e-07\n",
            "  1.31126114e-07 1.15048474e-11]\n",
            " [1.00000000e+00 5.08632644e-16 4.53851519e-15 2.25014175e-15\n",
            "  1.03234473e-17 4.37364598e-12 3.52817295e-08 5.68165825e-16\n",
            "  2.74897089e-15 8.22646953e-15]\n",
            " [4.98400837e-17 9.02595395e-14 1.39119878e-15 1.20336974e-18\n",
            "  1.00000000e+00 2.20753433e-18 1.95906290e-15 2.76059208e-16\n",
            "  1.47601036e-16 2.30980195e-08]]\n"
          ]
        }
      ],
      "source": [
        "predictions = model.predict(test_images[:5])\n",
        "print(predictions)"
      ]
    },
    {
      "cell_type": "code",
      "execution_count": 28,
      "metadata": {
        "ExecuteTime": {
          "end_time": "2022-05-13T13:47:44.595802Z",
          "start_time": "2022-05-13T13:47:44.579790Z"
        },
        "id": "XzETVszsH9LN",
        "outputId": "e403e8a2-76b5-45f7-c169-c9033f37ecb7",
        "colab": {
          "base_uri": "https://localhost:8080/"
        }
      },
      "outputs": [
        {
          "output_type": "stream",
          "name": "stdout",
          "text": [
            "7\n"
          ]
        }
      ],
      "source": [
        "print(np.argmax(predictions[0]))"
      ]
    },
    {
      "cell_type": "code",
      "execution_count": 29,
      "metadata": {
        "ExecuteTime": {
          "end_time": "2022-05-13T13:48:23.430779Z",
          "start_time": "2022-05-13T13:48:23.415816Z"
        },
        "id": "BYL-_SC3H9LN",
        "outputId": "d5870028-51c2-48a5-a386-0e83e0addf00",
        "colab": {
          "base_uri": "https://localhost:8080/"
        }
      },
      "outputs": [
        {
          "output_type": "stream",
          "name": "stdout",
          "text": [
            "[7.0116562e-16 5.8419892e-12 5.4680998e-14 3.5391879e-14 9.5041052e-08\n",
            " 5.5000046e-17 1.5632808e-19 9.9999988e-01 1.7787171e-13 2.9198625e-12]\n"
          ]
        }
      ],
      "source": [
        "print(predictions[0])"
      ]
    },
    {
      "cell_type": "code",
      "execution_count": 30,
      "metadata": {
        "ExecuteTime": {
          "end_time": "2022-05-13T13:45:12.539575Z",
          "start_time": "2022-05-13T13:45:12.533563Z"
        },
        "id": "btdZw8JrH9LO",
        "outputId": "5d1d463b-76a5-4347-ef4d-653957d27c31",
        "colab": {
          "base_uri": "https://localhost:8080/"
        }
      },
      "outputs": [
        {
          "output_type": "stream",
          "name": "stdout",
          "text": [
            "7\n"
          ]
        }
      ],
      "source": [
        "print(test_labels[0])"
      ]
    },
    {
      "cell_type": "markdown",
      "metadata": {
        "id": "mRck57M6H9LO"
      },
      "source": [
        "**SO THE MODEL KIND OF PREDICTS OUTPUT USING A PROBABILITY SCORE AND THE CLASS WITH THE CLOSEST SCORE TO 1 , GETS CHOSEN AS THE PREDICTED CLASS**"
      ]
    },
    {
      "cell_type": "code",
      "execution_count": 31,
      "metadata": {
        "ExecuteTime": {
          "end_time": "2022-05-13T13:50:36.358815Z",
          "start_time": "2022-05-13T13:50:35.995427Z"
        },
        "id": "55lxG-oQH9LP",
        "outputId": "3b49fa90-9830-43c3-96ea-e9679a8ccb21",
        "colab": {
          "base_uri": "https://localhost:8080/",
          "height": 269
        }
      },
      "outputs": [
        {
          "output_type": "display_data",
          "data": {
            "text/plain": [
              "<Figure size 432x288 with 2 Axes>"
            ],
            "image/png": "[encoded data removed]"
          },
          "metadata": {
            "needs_background": "light"
          }
        }
      ],
      "source": [
        "plt.figure()\n",
        "plt.imshow(test_images[0])\n",
        "plt.colorbar()\n",
        "plt.grid(False)\n",
        "plt.show()"
      ]
    },
    {
      "cell_type": "markdown",
      "metadata": {
        "id": "ppio2Nu6H9LQ"
      },
      "source": [
        "😁😁😀😀\n",
        "DEEP LEARNING == FUN == True"
      ]
    },
    {
      "cell_type": "code",
      "execution_count": 23,
      "metadata": {
        "id": "SapMGWXDH9LQ"
      },
      "outputs": [],
      "source": [
        ""
      ]
    }
  ],
  "metadata": {
    "interpreter": {
      "hash": "342aa5655132cbf71a715f798c1954c8e10fd62576e079eb1568ff3b5ac83c42"
    },
    "kernelspec": {
      "display_name": "Python 3 (ipykernel)",
      "language": "python",
      "name": "python3"
    },
    "language_info": {
      "codemirror_mode": {
        "name": "ipython",
        "version": 3
      },
      "file_extension": ".py",
      "mimetype": "text/x-python",
      "name": "python",
      "nbconvert_exporter": "python",
      "pygments_lexer": "ipython3",
      "version": "3.9.6"
    },
    "colab": {
      "name": "digit_classification.ipynb",
      "provenance": [],
      "include_colab_link": true
    }
  },
  "nbformat": 4,
  "nbformat_minor": 0
}